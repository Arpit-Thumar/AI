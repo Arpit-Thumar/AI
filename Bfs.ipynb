{
  "nbformat": 4,
  "nbformat_minor": 0,
  "metadata": {
    "colab": {
      "name": "Bfs.ipynb",
      "provenance": [],
      "collapsed_sections": [],
      "authorship_tag": "ABX9TyM5qshp1AdTf+RMqxce2njT",
      "include_colab_link": true
    },
    "kernelspec": {
      "name": "python3",
      "display_name": "Python 3"
    },
    "language_info": {
      "name": "python"
    }
  },
  "cells": [
    {
      "cell_type": "markdown",
      "metadata": {
        "id": "view-in-github",
        "colab_type": "text"
      },
      "source": [
        "<a href=\"https://colab.research.google.com/github/Arpit-Thumar/AI/blob/main/Bfs.ipynb\" target=\"_parent\"><img src=\"https://colab.research.google.com/assets/colab-badge.svg\" alt=\"Open In Colab\"/></a>"
      ]
    },
    {
      "cell_type": "code",
      "execution_count": null,
      "metadata": {
        "colab": {
          "base_uri": "https://localhost:8080/"
        },
        "id": "nAuUAVUt6GI_",
        "outputId": "02fcafe1-6754-4536-a011-fb905cc2b6d5"
      },
      "outputs": [
        {
          "output_type": "stream",
          "name": "stdout",
          "text": [
            "Following is BFS::\n",
            "A\n",
            "B\n",
            "C\n",
            "D\n",
            "E\n",
            "F\n",
            "G\n",
            "I\n"
          ]
        }
      ],
      "source": [
        "graph={\n",
        "    'A':['B','C',\"D\"],\n",
        "    'B':['E',\"F\"],\n",
        "    'C':['G',\"I\"],\n",
        "    'D':[\"I\"],\n",
        "    'E':[],\n",
        "    \"F\":[],\n",
        "    'G':[],\n",
        "    \"I\":[]\n",
        "}\n",
        "\n",
        "def bfs(Vi_com,graph,Curr_node):\n",
        "  Vi_com.append(Curr_node)\n",
        "  queue=[]\n",
        "  queue.append(Curr_node)\n",
        "\n",
        "  while queue:\n",
        "    s=queue.pop(0)\n",
        "    print(s)\n",
        "\n",
        "    for neighbour in graph[s]:\n",
        "      if neighbour not in Vi_com:\n",
        "        Vi_com.append(neighbour)\n",
        "        queue.append(neighbour)\n",
        "\n",
        "print(\"Following is BFS::\")\n",
        "bfs([],graph,'A')\n",
        "\n",
        "\n"
      ]
    }
  ]
}